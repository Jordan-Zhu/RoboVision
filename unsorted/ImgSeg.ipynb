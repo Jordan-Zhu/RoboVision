{
 "cells": [
  {
   "cell_type": "heading",
   "metadata": {
    "collapsed": true
   },
   "level": 1,
   "source": [
    "Robot Grasping Algorithm"
   ]
  },
  {
   "cell_type": "markdown",
   "metadata": {},
   "source": [
    "We first start by importing the necessary packages:"
   ]
  },
  {
   "cell_type": "code",
   "execution_count": 1,
   "metadata": {},
   "outputs": [],
   "source": [
    "import cv2\n",
    "import numpy as np\n",
    "import scipy.io as sio\n",
    "from skimage import morphology"
   ]
  },
  {
   "cell_type": "code",
   "execution_count": 2,
   "metadata": {},
   "outputs": [],
   "source": [
    "from utility import showimg, normalize_depth, edge_detect, find_contours\n",
    "from drawlinefeature import DrawLineFeature,drawconvex\n",
    "from lineseg import lineseg\n",
    "from drawedgelist import drawedgelist\n",
    "from Lseg_to_Lfeat_v2 import Lseg_to_Lfeat_v2\n",
    "from merge_lines_v2 import merge_lines\n",
    "from LabelLineCurveFeature import classify_curves"
   ]
  },
  {
   "cell_type": "markdown",
   "metadata": {},
   "source": [
    "Next, we read in our scene, as a depth map and a color image:"
   ]
  },
  {
   "cell_type": "code",
   "execution_count": null,
   "metadata": {},
   "outputs": [],
   "source": [
    "# second argument is a flag which specifies the way\n",
    "# an image should be read. -1 loads image unchanged with alpha channel\n",
    "depthimg = cv2.imread('img/learn15.png', -1)\n",
    "colorimg = cv2.imread('img/clearn17.png', 0)"
   ]
  },
  {
   "cell_type": "code",
   "execution_count": null,
   "metadata": {},
   "outputs": [],
   "source": [
    ""
   ]
  }
 ],
 "metadata": {
  "kernelspec": {
   "display_name": "Python 2",
   "language": "python",
   "name": "python2"
  },
  "language_info": {
   "codemirror_mode": {
    "name": "ipython",
    "version": 2.0
   },
   "file_extension": ".py",
   "mimetype": "text/x-python",
   "name": "python",
   "nbconvert_exporter": "python",
   "pygments_lexer": "ipython2",
   "version": "2.7.6"
  }
 },
 "nbformat": 4,
 "nbformat_minor": 0
}